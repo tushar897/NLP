{
 "cells": [
  {
   "cell_type": "code",
   "execution_count": null,
   "id": "2eb65c3a",
   "metadata": {},
   "outputs": [],
   "source": [
    "import pickle\n",
    "import numpy as np\n"
   ]
  },
  {
   "cell_type": "code",
   "execution_count": null,
   "id": "c440a51f",
   "metadata": {},
   "outputs": [],
   "source": [
    "with open('C:\\\\cleaning data\\\\NLP\\\\UPDATED_NLP_COURSE\\\\06-Deep-Learning\\\\train_qa.txt','rb') as f:\n",
    "    train = pickle.load(f)"
   ]
  },
  {
   "cell_type": "code",
   "execution_count": null,
   "id": "5d6abaaf",
   "metadata": {},
   "outputs": [],
   "source": [
    "train"
   ]
  },
  {
   "cell_type": "code",
   "execution_count": null,
   "id": "278ce7f8",
   "metadata": {},
   "outputs": [],
   "source": [
    "with open('C:\\\\cleaning data\\\\NLP\\\\UPDATED_NLP_COURSE\\\\06-Deep-Learning\\\\test_qa.txt','rb') as f:\n",
    "    test = pickle.load(f)"
   ]
  },
  {
   "cell_type": "code",
   "execution_count": null,
   "id": "51cc58d6",
   "metadata": {},
   "outputs": [],
   "source": [
    "len(train)"
   ]
  },
  {
   "cell_type": "code",
   "execution_count": null,
   "id": "beb5d61c",
   "metadata": {},
   "outputs": [],
   "source": [
    "len(test)"
   ]
  },
  {
   "cell_type": "code",
   "execution_count": null,
   "id": "2dca312b",
   "metadata": {},
   "outputs": [],
   "source": [
    "train[0]"
   ]
  },
  {
   "cell_type": "code",
   "execution_count": null,
   "id": "7ff7c8af",
   "metadata": {},
   "outputs": [],
   "source": [
    "' '.join(train[0][0])"
   ]
  },
  {
   "cell_type": "code",
   "execution_count": null,
   "id": "4d1a3edc",
   "metadata": {},
   "outputs": [],
   "source": [
    "' '.join(train[0][1])"
   ]
  },
  {
   "cell_type": "code",
   "execution_count": null,
   "id": "8f8db179",
   "metadata": {},
   "outputs": [],
   "source": [
    "train[0][2]"
   ]
  },
  {
   "cell_type": "code",
   "execution_count": null,
   "id": "e7d539ba",
   "metadata": {},
   "outputs": [],
   "source": [
    "all_data = train + test"
   ]
  },
  {
   "cell_type": "code",
   "execution_count": null,
   "id": "830f0b4e",
   "metadata": {},
   "outputs": [],
   "source": [
    "len(all_data)"
   ]
  },
  {
   "cell_type": "code",
   "execution_count": null,
   "id": "0070ab0f",
   "metadata": {},
   "outputs": [],
   "source": [
    "# vocabulory \n",
    "vocab = set() \n",
    "\n",
    "for story,ques,ans in all_data:\n",
    "    vocab = vocab.union(set(story))\n",
    "    vocab = vocab.union(set(ques))\n",
    "\n",
    "    "
   ]
  },
  {
   "cell_type": "code",
   "execution_count": null,
   "id": "4487d862",
   "metadata": {},
   "outputs": [],
   "source": [
    "vocab.add('yes')"
   ]
  },
  {
   "cell_type": "code",
   "execution_count": null,
   "id": "6d1bd208",
   "metadata": {},
   "outputs": [],
   "source": [
    "vocab.add('no')"
   ]
  },
  {
   "cell_type": "code",
   "execution_count": null,
   "id": "67dcd510",
   "metadata": {},
   "outputs": [],
   "source": [
    "len(vocab)"
   ]
  },
  {
   "cell_type": "code",
   "execution_count": null,
   "id": "10ef01c9",
   "metadata": {},
   "outputs": [],
   "source": [
    "x_vocab = len(vocab) + 1\n"
   ]
  },
  {
   "cell_type": "code",
   "execution_count": null,
   "id": "8b2ea565",
   "metadata": {},
   "outputs": [],
   "source": [
    "# for padding-sequence \n",
    "story_length = []\n",
    "ques_length = []\n",
    "for x in all_data:\n",
    "    \n",
    "    story_length.append(len(x[0]))\n",
    "    ques_length.append(len(x[1]))"
   ]
  },
  {
   "cell_type": "code",
   "execution_count": null,
   "id": "99d0ecfc",
   "metadata": {},
   "outputs": [],
   "source": [
    "max(story_length)"
   ]
  },
  {
   "cell_type": "code",
   "execution_count": null,
   "id": "567c7614",
   "metadata": {},
   "outputs": [],
   "source": [
    "max(ques_length)"
   ]
  },
  {
   "cell_type": "code",
   "execution_count": null,
   "id": "463a58dd",
   "metadata": {},
   "outputs": [],
   "source": []
  },
  {
   "cell_type": "code",
   "execution_count": null,
   "id": "24e41e93",
   "metadata": {},
   "outputs": [],
   "source": [
    "import tensorflow as tf\n",
    "from keras.preprocessing.sequence import pad_sequences\n",
    "from keras.preprocessing.text import Tokenizer"
   ]
  },
  {
   "cell_type": "code",
   "execution_count": null,
   "id": "c8d90304",
   "metadata": {},
   "outputs": [],
   "source": [
    "tokenizer = Tokenizer(filters=[])\n",
    "tokenizer.fit_on_texts(vocab)"
   ]
  },
  {
   "cell_type": "code",
   "execution_count": null,
   "id": "18b07d88",
   "metadata": {},
   "outputs": [],
   "source": [
    "tokenizer.word_index"
   ]
  },
  {
   "cell_type": "code",
   "execution_count": null,
   "id": "51a385c4",
   "metadata": {},
   "outputs": [],
   "source": [
    "train_story_text = []\n",
    "train_question_text = []\n",
    "train_answers = []\n",
    "\n",
    "for story,question,answer in train:\n",
    "    train_story_text.append(story)\n",
    "    train_question_text.append(question)"
   ]
  },
  {
   "cell_type": "code",
   "execution_count": null,
   "id": "fa041ea3",
   "metadata": {},
   "outputs": [],
   "source": [
    "train_story_seq = tokenizer.texts_to_sequences(train_story_text)"
   ]
  },
  {
   "cell_type": "code",
   "execution_count": null,
   "id": "e85a4c35",
   "metadata": {},
   "outputs": [],
   "source": [
    "def vectorize_stories(data, word_index=tokenizer.word_index, max_story_len=max(story_length),max_question_len=max(ques_length)):\n",
    "    '''\n",
    "    INPUT: \n",
    "    \n",
    "    data: consisting of Stories,Queries,and Answers\n",
    "    word_index: word index dictionary from tokenizer\n",
    "    max_story_len: the length of the longest story (used for pad_sequences function)\n",
    "    max_question_len: length of the longest question (used for pad_sequences function)\n",
    "\n",
    "\n",
    "    OUTPUT:\n",
    "    \n",
    "    Vectorizes the stories,questions, and answers into padded sequences. We first loop for every story, query , and\n",
    "    answer in the data. Then we convert the raw words to an word index value. Then we append each set to their appropriate\n",
    "    output list. Then once we have converted the words to numbers, we pad the sequences so they are all of equal length.\n",
    "    \n",
    "    Returns this in the form of a tuple (X,Xq,Y) (padded based on max lengths)\n",
    "    '''\n",
    "    \n",
    "    \n",
    "    # X = STORIES\n",
    "    X = []\n",
    "    # Xq = QUERY/QUESTION\n",
    "    Xq = []\n",
    "    # Y = CORRECT ANSWER\n",
    "    Y = []\n",
    "    \n",
    "    \n",
    "    for story, query, answer in data:\n",
    "        \n",
    "        # Grab the word index for every word in story\n",
    "        x = [word_index[word.lower()] for word in story]\n",
    "        # Grab the word index for every word in query\n",
    "        xq = [word_index[word.lower()] for word in query]\n",
    "        \n",
    "        # Grab the Answers (either Yes/No so we don't need to use list comprehension here)\n",
    "        # Index 0 is reserved so we're going to use + 1\n",
    "        y = np.zeros(len(word_index) + 1)\n",
    "        \n",
    "        # Now that y is all zeros and we know its just Yes/No , we can use numpy logic to create this assignment\n",
    "        #\n",
    "        y[word_index[answer]] = 1\n",
    "        \n",
    "        # Append each set of story,query, and answer to their respective holding lists\n",
    "        X.append(x)\n",
    "        Xq.append(xq)\n",
    "        Y.append(y)\n",
    "        \n",
    "    # Finally, pad the sequences based on their max length so the RNN can be trained on uniformly long sequences.\n",
    "        \n",
    "    # RETURN TUPLE FOR UNPACKING\n",
    "    return (pad_sequences(X, maxlen=max_story_len),pad_sequences(Xq, maxlen=max_question_len), np.array(Y))"
   ]
  },
  {
   "cell_type": "code",
   "execution_count": null,
   "id": "0898235a",
   "metadata": {},
   "outputs": [],
   "source": [
    "import numpy as np"
   ]
  },
  {
   "cell_type": "code",
   "execution_count": null,
   "id": "d18ac22d",
   "metadata": {},
   "outputs": [],
   "source": [
    "inputs_train, queries_train, answers_train = vectorize_stories(train)"
   ]
  },
  {
   "cell_type": "code",
   "execution_count": null,
   "id": "25b2be93",
   "metadata": {},
   "outputs": [],
   "source": [
    "inputs_test, queries_test, answers_test = vectorize_stories(test)"
   ]
  },
  {
   "cell_type": "code",
   "execution_count": null,
   "id": "3c532bf1",
   "metadata": {},
   "outputs": [],
   "source": [
    "inputs_test"
   ]
  },
  {
   "cell_type": "code",
   "execution_count": null,
   "id": "2c508d31",
   "metadata": {},
   "outputs": [],
   "source": [
    "queries_test"
   ]
  },
  {
   "cell_type": "raw",
   "id": "0c35dc33",
   "metadata": {},
   "source": []
  },
  {
   "cell_type": "code",
   "execution_count": null,
   "id": "7dd3d341",
   "metadata": {},
   "outputs": [],
   "source": [
    "from keras.models import Sequential,Model\n",
    "from keras.layers.embeddings import Embedding\n",
    "from keras.layers import Input,Activation,Dense,Permute,Dropout\n",
    "from keras.layers import LSTM\n",
    "from keras.layers import add,dot,concatenate"
   ]
  },
  {
   "cell_type": "code",
   "execution_count": null,
   "id": "ad03adac",
   "metadata": {},
   "outputs": [],
   "source": [
    "input_sequence = Input((max(story_length),))\n",
    "question = Input((max(ques_length),))"
   ]
  },
  {
   "cell_type": "code",
   "execution_count": null,
   "id": "127d64ce",
   "metadata": {},
   "outputs": [],
   "source": []
  },
  {
   "cell_type": "code",
   "execution_count": 126,
   "id": "cfa25875",
   "metadata": {},
   "outputs": [],
   "source": [
    "Encoder = Sequential()\n",
    "Encoder.add(Embedding(input_dim=x_vocab,output_dim=64))\n",
    "Encoder.add(Dropout(0.3))"
   ]
  },
  {
   "cell_type": "code",
   "execution_count": 130,
   "id": "167c4f6f",
   "metadata": {},
   "outputs": [],
   "source": [
    "Encoder_1 = Sequential()\n",
    "Encoder_1.add(Embedding(input_dim=x_vocab,output_dim=max(ques_length)))\n",
    "Encoder_1.add(Dropout(0.3))\n"
   ]
  },
  {
   "cell_type": "raw",
   "id": "d20c099b",
   "metadata": {},
   "source": []
  },
  {
   "cell_type": "code",
   "execution_count": 134,
   "id": "fe3fba19",
   "metadata": {},
   "outputs": [],
   "source": [
    "Encoder_Q = Sequential()\n",
    "Encoder_Q.add(Embedding(input_dim=x_vocab,output_dim=64,input_length=max(ques_length)))\n",
    "Encoder_Q.add(Dropout(0.3))"
   ]
  },
  {
   "cell_type": "code",
   "execution_count": 135,
   "id": "ed7efddb",
   "metadata": {},
   "outputs": [],
   "source": [
    "input_encoded_m = Encoder(input_sequence)\n",
    "input_encoded_c = Encoder_1(input_sequence)\n",
    "questions_encoded = Encoder_Q(question)"
   ]
  },
  {
   "cell_type": "code",
   "execution_count": 137,
   "id": "143b666b",
   "metadata": {},
   "outputs": [],
   "source": [
    "match = dot([input_encoded_m,questions_encoded],axes=[2,2])\n",
    "match = Activation('softmax')(match)"
   ]
  },
  {
   "cell_type": "code",
   "execution_count": 138,
   "id": "fc89fc42",
   "metadata": {},
   "outputs": [],
   "source": [
    "response = add([match, input_encoded_c])  # (samples, story_maxlen, query_maxlen)\n",
    "response = Permute((2, 1))(response)"
   ]
  },
  {
   "cell_type": "code",
   "execution_count": 142,
   "id": "2db74934",
   "metadata": {},
   "outputs": [],
   "source": [
    "answer = concatenate([response, questions_encoded])"
   ]
  },
  {
   "cell_type": "code",
   "execution_count": 143,
   "id": "186ce15c",
   "metadata": {},
   "outputs": [
    {
     "data": {
      "text/plain": [
       "<KerasTensor: shape=(None, 6, 220) dtype=float32 (created by layer 'concatenate_1')>"
      ]
     },
     "execution_count": 143,
     "metadata": {},
     "output_type": "execute_result"
    }
   ],
   "source": [
    "answer"
   ]
  },
  {
   "cell_type": "code",
   "execution_count": 144,
   "id": "c76138d2",
   "metadata": {},
   "outputs": [],
   "source": [
    "answer = LSTM(32)(answer)"
   ]
  },
  {
   "cell_type": "code",
   "execution_count": 146,
   "id": "463b25b8",
   "metadata": {},
   "outputs": [],
   "source": [
    "answer = Dropout(0.5)(answer)\n",
    "answer = Dense(x_vocab)(answer)"
   ]
  },
  {
   "cell_type": "code",
   "execution_count": 147,
   "id": "924a3724",
   "metadata": {},
   "outputs": [],
   "source": [
    "answer = Activation('softmax')(answer)\n",
    "\n",
    "# build the final model\n",
    "model = Model([input_sequence, question], answer)\n",
    "model.compile(optimizer='rmsprop', loss='categorical_crossentropy',\n",
    "              metrics=['accuracy'])"
   ]
  },
  {
   "cell_type": "code",
   "execution_count": 148,
   "id": "a8a108dd",
   "metadata": {},
   "outputs": [
    {
     "name": "stdout",
     "output_type": "stream",
     "text": [
      "Model: \"model\"\n",
      "__________________________________________________________________________________________________\n",
      " Layer (type)                   Output Shape         Param #     Connected to                     \n",
      "==================================================================================================\n",
      " input_2 (InputLayer)           [(None, 156)]        0           []                               \n",
      "                                                                                                  \n",
      " input_3 (InputLayer)           [(None, 6)]          0           []                               \n",
      "                                                                                                  \n",
      " sequential (Sequential)        (None, None, 64)     2432        ['input_2[0][0]']                \n",
      "                                                                                                  \n",
      " sequential_4 (Sequential)      (None, 6, 64)        2432        ['input_3[0][0]']                \n",
      "                                                                                                  \n",
      " dot (Dot)                      (None, 156, 6)       0           ['sequential[0][0]',             \n",
      "                                                                  'sequential_4[0][0]']           \n",
      "                                                                                                  \n",
      " activation (Activation)        (None, 156, 6)       0           ['dot[0][0]']                    \n",
      "                                                                                                  \n",
      " sequential_2 (Sequential)      (None, None, 6)      228         ['input_2[0][0]']                \n",
      "                                                                                                  \n",
      " add (Add)                      (None, 156, 6)       0           ['activation[0][0]',             \n",
      "                                                                  'sequential_2[0][0]']           \n",
      "                                                                                                  \n",
      " permute (Permute)              (None, 6, 156)       0           ['add[0][0]']                    \n",
      "                                                                                                  \n",
      " concatenate_1 (Concatenate)    (None, 6, 220)       0           ['permute[0][0]',                \n",
      "                                                                  'sequential_4[0][0]']           \n",
      "                                                                                                  \n",
      " lstm (LSTM)                    (None, 32)           32384       ['concatenate_1[0][0]']          \n",
      "                                                                                                  \n",
      " dropout_4 (Dropout)            (None, 32)           0           ['lstm[0][0]']                   \n",
      "                                                                                                  \n",
      " dropout_5 (Dropout)            (None, 32)           0           ['dropout_4[0][0]']              \n",
      "                                                                                                  \n",
      " dense (Dense)                  (None, 38)           1254        ['dropout_5[0][0]']              \n",
      "                                                                                                  \n",
      " activation_1 (Activation)      (None, 38)           0           ['dense[0][0]']                  \n",
      "                                                                                                  \n",
      "==================================================================================================\n",
      "Total params: 38,730\n",
      "Trainable params: 38,730\n",
      "Non-trainable params: 0\n",
      "__________________________________________________________________________________________________\n"
     ]
    }
   ],
   "source": [
    "model.summary()"
   ]
  },
  {
   "cell_type": "code",
   "execution_count": 149,
   "id": "3d39270b",
   "metadata": {},
   "outputs": [
    {
     "name": "stdout",
     "output_type": "stream",
     "text": [
      "Epoch 1/120\n",
      "313/313 [==============================] - 17s 31ms/step - loss: 0.9967 - accuracy: 0.4942 - val_loss: 0.6984 - val_accuracy: 0.4970\n",
      "Epoch 2/120\n",
      "313/313 [==============================] - 9s 29ms/step - loss: 0.7212 - accuracy: 0.5036 - val_loss: 0.6933 - val_accuracy: 0.4970\n",
      "Epoch 3/120\n",
      "313/313 [==============================] - 9s 28ms/step - loss: 0.7019 - accuracy: 0.5060 - val_loss: 0.6946 - val_accuracy: 0.4970\n",
      "Epoch 4/120\n",
      "313/313 [==============================] - 8s 26ms/step - loss: 0.7001 - accuracy: 0.5051 - val_loss: 0.6932 - val_accuracy: 0.4970\n",
      "Epoch 5/120\n",
      "313/313 [==============================] - 8s 24ms/step - loss: 0.6982 - accuracy: 0.4932 - val_loss: 0.6933 - val_accuracy: 0.5030\n",
      "Epoch 6/120\n",
      "313/313 [==============================] - 7s 24ms/step - loss: 0.6971 - accuracy: 0.4954 - val_loss: 0.6932 - val_accuracy: 0.4970\n",
      "Epoch 7/120\n",
      "313/313 [==============================] - 8s 24ms/step - loss: 0.6977 - accuracy: 0.4950 - val_loss: 0.6951 - val_accuracy: 0.4970\n",
      "Epoch 8/120\n",
      "313/313 [==============================] - 7s 24ms/step - loss: 0.6963 - accuracy: 0.5010 - val_loss: 0.6934 - val_accuracy: 0.4970\n",
      "Epoch 9/120\n",
      "313/313 [==============================] - 7s 24ms/step - loss: 0.6965 - accuracy: 0.4983 - val_loss: 0.6942 - val_accuracy: 0.5030\n",
      "Epoch 10/120\n",
      "313/313 [==============================] - 8s 24ms/step - loss: 0.6968 - accuracy: 0.4961 - val_loss: 0.6933 - val_accuracy: 0.4970\n",
      "Epoch 11/120\n",
      "313/313 [==============================] - 8s 24ms/step - loss: 0.6968 - accuracy: 0.4993 - val_loss: 0.6938 - val_accuracy: 0.5030\n",
      "Epoch 12/120\n",
      "313/313 [==============================] - 8s 24ms/step - loss: 0.6949 - accuracy: 0.5126 - val_loss: 0.6938 - val_accuracy: 0.4970\n",
      "Epoch 13/120\n",
      "313/313 [==============================] - 8s 25ms/step - loss: 0.6957 - accuracy: 0.5068 - val_loss: 0.6932 - val_accuracy: 0.5030\n",
      "Epoch 14/120\n",
      "313/313 [==============================] - 8s 24ms/step - loss: 0.6963 - accuracy: 0.4969 - val_loss: 0.6938 - val_accuracy: 0.5030\n",
      "Epoch 15/120\n",
      "313/313 [==============================] - 8s 24ms/step - loss: 0.6960 - accuracy: 0.5075 - val_loss: 0.6947 - val_accuracy: 0.4970\n",
      "Epoch 16/120\n",
      "313/313 [==============================] - 8s 24ms/step - loss: 0.6962 - accuracy: 0.4992 - val_loss: 0.6932 - val_accuracy: 0.5030\n",
      "Epoch 17/120\n",
      "313/313 [==============================] - 8s 24ms/step - loss: 0.6966 - accuracy: 0.4871 - val_loss: 0.6938 - val_accuracy: 0.4970\n",
      "Epoch 18/120\n",
      "313/313 [==============================] - 8s 24ms/step - loss: 0.6955 - accuracy: 0.5054 - val_loss: 0.6933 - val_accuracy: 0.5030\n",
      "Epoch 19/120\n",
      "313/313 [==============================] - 8s 24ms/step - loss: 0.6954 - accuracy: 0.5075 - val_loss: 0.6979 - val_accuracy: 0.4970\n",
      "Epoch 20/120\n",
      "313/313 [==============================] - 8s 24ms/step - loss: 0.6957 - accuracy: 0.4977 - val_loss: 0.6933 - val_accuracy: 0.4780\n",
      "Epoch 21/120\n",
      "313/313 [==============================] - 8s 27ms/step - loss: 0.6957 - accuracy: 0.4938 - val_loss: 0.6933 - val_accuracy: 0.5030\n",
      "Epoch 22/120\n",
      "313/313 [==============================] - 8s 24ms/step - loss: 0.6950 - accuracy: 0.5022 - val_loss: 0.6957 - val_accuracy: 0.4970\n",
      "Epoch 23/120\n",
      "313/313 [==============================] - 8s 24ms/step - loss: 0.6948 - accuracy: 0.5047 - val_loss: 0.6933 - val_accuracy: 0.4930\n",
      "Epoch 24/120\n",
      "313/313 [==============================] - 8s 24ms/step - loss: 0.6942 - accuracy: 0.5051 - val_loss: 0.6936 - val_accuracy: 0.4790\n",
      "Epoch 25/120\n",
      "313/313 [==============================] - 8s 24ms/step - loss: 0.6940 - accuracy: 0.5079 - val_loss: 0.6926 - val_accuracy: 0.5120\n",
      "Epoch 26/120\n",
      "313/313 [==============================] - 8s 24ms/step - loss: 0.6921 - accuracy: 0.5023 - val_loss: 0.6915 - val_accuracy: 0.4920\n",
      "Epoch 27/120\n",
      "313/313 [==============================] - 8s 25ms/step - loss: 0.6885 - accuracy: 0.5166 - val_loss: 0.6882 - val_accuracy: 0.5030\n",
      "Epoch 28/120\n",
      "313/313 [==============================] - 8s 26ms/step - loss: 0.6845 - accuracy: 0.5388 - val_loss: 0.6825 - val_accuracy: 0.5180\n",
      "Epoch 29/120\n",
      "313/313 [==============================] - 8s 24ms/step - loss: 0.6791 - accuracy: 0.5563 - val_loss: 0.6705 - val_accuracy: 0.6270\n",
      "Epoch 30/120\n",
      "313/313 [==============================] - 8s 24ms/step - loss: 0.6732 - accuracy: 0.5827 - val_loss: 0.6585 - val_accuracy: 0.6490\n",
      "Epoch 31/120\n",
      "313/313 [==============================] - 8s 24ms/step - loss: 0.6627 - accuracy: 0.5968 - val_loss: 0.6445 - val_accuracy: 0.6470\n",
      "Epoch 32/120\n",
      "313/313 [==============================] - 8s 24ms/step - loss: 0.6540 - accuracy: 0.6220 - val_loss: 0.6314 - val_accuracy: 0.6720\n",
      "Epoch 33/120\n",
      "313/313 [==============================] - 8s 26ms/step - loss: 0.6452 - accuracy: 0.6360 - val_loss: 0.6249 - val_accuracy: 0.6680\n",
      "Epoch 34/120\n",
      "313/313 [==============================] - 8s 26ms/step - loss: 0.6324 - accuracy: 0.6522 - val_loss: 0.6158 - val_accuracy: 0.6640\n",
      "Epoch 35/120\n",
      "313/313 [==============================] - 8s 25ms/step - loss: 0.6225 - accuracy: 0.6650 - val_loss: 0.6058 - val_accuracy: 0.6730\n",
      "Epoch 36/120\n",
      "313/313 [==============================] - 7s 24ms/step - loss: 0.6084 - accuracy: 0.6834 - val_loss: 0.5837 - val_accuracy: 0.7040\n",
      "Epoch 37/120\n",
      "313/313 [==============================] - 7s 24ms/step - loss: 0.5909 - accuracy: 0.7015 - val_loss: 0.5579 - val_accuracy: 0.7290\n",
      "Epoch 38/120\n",
      "313/313 [==============================] - 7s 24ms/step - loss: 0.5780 - accuracy: 0.7155 - val_loss: 0.5446 - val_accuracy: 0.7390\n",
      "Epoch 39/120\n",
      "313/313 [==============================] - 7s 24ms/step - loss: 0.5467 - accuracy: 0.7424 - val_loss: 0.4983 - val_accuracy: 0.7630\n",
      "Epoch 40/120\n",
      "313/313 [==============================] - 7s 24ms/step - loss: 0.5189 - accuracy: 0.7596 - val_loss: 0.4817 - val_accuracy: 0.7700\n",
      "Epoch 41/120\n",
      "313/313 [==============================] - 7s 24ms/step - loss: 0.4842 - accuracy: 0.7857 - val_loss: 0.4342 - val_accuracy: 0.8100\n",
      "Epoch 42/120\n",
      "313/313 [==============================] - 7s 24ms/step - loss: 0.4653 - accuracy: 0.7978 - val_loss: 0.4530 - val_accuracy: 0.7940\n",
      "Epoch 43/120\n",
      "313/313 [==============================] - 7s 24ms/step - loss: 0.4502 - accuracy: 0.8080 - val_loss: 0.4193 - val_accuracy: 0.8240\n",
      "Epoch 44/120\n",
      "313/313 [==============================] - 7s 24ms/step - loss: 0.4413 - accuracy: 0.8111 - val_loss: 0.4300 - val_accuracy: 0.8120\n",
      "Epoch 45/120\n",
      "313/313 [==============================] - 7s 24ms/step - loss: 0.4286 - accuracy: 0.8229 - val_loss: 0.3924 - val_accuracy: 0.8280\n",
      "Epoch 46/120\n",
      "313/313 [==============================] - 7s 24ms/step - loss: 0.4134 - accuracy: 0.8240 - val_loss: 0.4093 - val_accuracy: 0.8280\n",
      "Epoch 47/120\n",
      "313/313 [==============================] - 7s 24ms/step - loss: 0.4125 - accuracy: 0.8318 - val_loss: 0.3942 - val_accuracy: 0.8380\n",
      "Epoch 48/120\n",
      "313/313 [==============================] - 7s 24ms/step - loss: 0.4041 - accuracy: 0.8336 - val_loss: 0.4107 - val_accuracy: 0.8190\n",
      "Epoch 49/120\n",
      "313/313 [==============================] - 7s 24ms/step - loss: 0.4004 - accuracy: 0.8323 - val_loss: 0.3808 - val_accuracy: 0.8370\n",
      "Epoch 50/120\n",
      "313/313 [==============================] - 7s 24ms/step - loss: 0.3910 - accuracy: 0.8368 - val_loss: 0.3907 - val_accuracy: 0.8340\n",
      "Epoch 51/120\n",
      "313/313 [==============================] - 7s 24ms/step - loss: 0.3808 - accuracy: 0.8434 - val_loss: 0.3705 - val_accuracy: 0.8400\n",
      "Epoch 52/120\n",
      "313/313 [==============================] - 7s 24ms/step - loss: 0.3780 - accuracy: 0.8410 - val_loss: 0.4225 - val_accuracy: 0.8130\n",
      "Epoch 53/120\n",
      "313/313 [==============================] - 7s 24ms/step - loss: 0.3753 - accuracy: 0.8437 - val_loss: 0.3726 - val_accuracy: 0.8310\n",
      "Epoch 54/120\n",
      "313/313 [==============================] - 7s 24ms/step - loss: 0.3713 - accuracy: 0.8472 - val_loss: 0.3637 - val_accuracy: 0.8440\n",
      "Epoch 55/120\n",
      "313/313 [==============================] - 7s 24ms/step - loss: 0.3736 - accuracy: 0.8452 - val_loss: 0.3710 - val_accuracy: 0.8320\n",
      "Epoch 56/120\n",
      "313/313 [==============================] - 9s 29ms/step - loss: 0.3618 - accuracy: 0.8505 - val_loss: 0.3575 - val_accuracy: 0.8410\n",
      "Epoch 57/120\n"
     ]
    },
    {
     "name": "stdout",
     "output_type": "stream",
     "text": [
      "313/313 [==============================] - 9s 27ms/step - loss: 0.3606 - accuracy: 0.8479 - val_loss: 0.3574 - val_accuracy: 0.8290\n",
      "Epoch 58/120\n",
      "313/313 [==============================] - 8s 27ms/step - loss: 0.3573 - accuracy: 0.8547 - val_loss: 0.3818 - val_accuracy: 0.8380\n",
      "Epoch 59/120\n",
      "313/313 [==============================] - 8s 27ms/step - loss: 0.3519 - accuracy: 0.8540 - val_loss: 0.3524 - val_accuracy: 0.8440\n",
      "Epoch 60/120\n",
      "313/313 [==============================] - 8s 27ms/step - loss: 0.3573 - accuracy: 0.8505 - val_loss: 0.3545 - val_accuracy: 0.8480\n",
      "Epoch 61/120\n",
      "313/313 [==============================] - 8s 27ms/step - loss: 0.3510 - accuracy: 0.8543 - val_loss: 0.3579 - val_accuracy: 0.8280\n",
      "Epoch 62/120\n",
      "313/313 [==============================] - 8s 27ms/step - loss: 0.3494 - accuracy: 0.8529 - val_loss: 0.3486 - val_accuracy: 0.8380\n",
      "Epoch 63/120\n",
      "313/313 [==============================] - 9s 27ms/step - loss: 0.3472 - accuracy: 0.8555 - val_loss: 0.3538 - val_accuracy: 0.8410\n",
      "Epoch 64/120\n",
      "313/313 [==============================] - 8s 27ms/step - loss: 0.3405 - accuracy: 0.8551 - val_loss: 0.3415 - val_accuracy: 0.8370\n",
      "Epoch 65/120\n",
      "313/313 [==============================] - 8s 27ms/step - loss: 0.3430 - accuracy: 0.8554 - val_loss: 0.3630 - val_accuracy: 0.8290\n",
      "Epoch 66/120\n",
      "313/313 [==============================] - 9s 27ms/step - loss: 0.3346 - accuracy: 0.8580 - val_loss: 0.3634 - val_accuracy: 0.8440\n",
      "Epoch 67/120\n",
      "313/313 [==============================] - 9s 27ms/step - loss: 0.3323 - accuracy: 0.8581 - val_loss: 0.3413 - val_accuracy: 0.8390\n",
      "Epoch 68/120\n",
      "313/313 [==============================] - 9s 27ms/step - loss: 0.3356 - accuracy: 0.8563 - val_loss: 0.3412 - val_accuracy: 0.8470\n",
      "Epoch 69/120\n",
      "313/313 [==============================] - 8s 27ms/step - loss: 0.3343 - accuracy: 0.8598 - val_loss: 0.3762 - val_accuracy: 0.8310\n",
      "Epoch 70/120\n",
      "313/313 [==============================] - 8s 27ms/step - loss: 0.3332 - accuracy: 0.8557 - val_loss: 0.3473 - val_accuracy: 0.8380\n",
      "Epoch 71/120\n",
      "313/313 [==============================] - 9s 27ms/step - loss: 0.3309 - accuracy: 0.8583 - val_loss: 0.3448 - val_accuracy: 0.8390\n",
      "Epoch 72/120\n",
      "313/313 [==============================] - 9s 27ms/step - loss: 0.3300 - accuracy: 0.8616 - val_loss: 0.3523 - val_accuracy: 0.8410\n",
      "Epoch 73/120\n",
      "313/313 [==============================] - 7s 24ms/step - loss: 0.3392 - accuracy: 0.8571 - val_loss: 0.3459 - val_accuracy: 0.8440\n",
      "Epoch 74/120\n",
      "313/313 [==============================] - 7s 24ms/step - loss: 0.3354 - accuracy: 0.8553 - val_loss: 0.3511 - val_accuracy: 0.8370\n",
      "Epoch 75/120\n",
      "313/313 [==============================] - 7s 24ms/step - loss: 0.3337 - accuracy: 0.8571 - val_loss: 0.3512 - val_accuracy: 0.8420\n",
      "Epoch 76/120\n",
      "313/313 [==============================] - 8s 24ms/step - loss: 0.3231 - accuracy: 0.8631 - val_loss: 0.3617 - val_accuracy: 0.8410\n",
      "Epoch 77/120\n",
      "313/313 [==============================] - 7s 24ms/step - loss: 0.3295 - accuracy: 0.8609 - val_loss: 0.3492 - val_accuracy: 0.8330\n",
      "Epoch 78/120\n",
      "313/313 [==============================] - 7s 24ms/step - loss: 0.3267 - accuracy: 0.8570 - val_loss: 0.3399 - val_accuracy: 0.8390\n",
      "Epoch 79/120\n",
      "313/313 [==============================] - 7s 24ms/step - loss: 0.3308 - accuracy: 0.8622 - val_loss: 0.3466 - val_accuracy: 0.8430\n",
      "Epoch 80/120\n",
      "313/313 [==============================] - 7s 24ms/step - loss: 0.3238 - accuracy: 0.8623 - val_loss: 0.3490 - val_accuracy: 0.8420\n",
      "Epoch 81/120\n",
      "313/313 [==============================] - 8s 24ms/step - loss: 0.3265 - accuracy: 0.8609 - val_loss: 0.3624 - val_accuracy: 0.8410\n",
      "Epoch 82/120\n",
      "313/313 [==============================] - 8s 24ms/step - loss: 0.3228 - accuracy: 0.8620 - val_loss: 0.3546 - val_accuracy: 0.8310\n",
      "Epoch 83/120\n",
      "313/313 [==============================] - 7s 24ms/step - loss: 0.3236 - accuracy: 0.8613 - val_loss: 0.3457 - val_accuracy: 0.8380\n",
      "Epoch 84/120\n",
      "313/313 [==============================] - 7s 24ms/step - loss: 0.3241 - accuracy: 0.8601 - val_loss: 0.3587 - val_accuracy: 0.8380\n",
      "Epoch 85/120\n",
      "313/313 [==============================] - 8s 24ms/step - loss: 0.3251 - accuracy: 0.8619 - val_loss: 0.3508 - val_accuracy: 0.8410\n",
      "Epoch 86/120\n",
      "313/313 [==============================] - 8s 24ms/step - loss: 0.3137 - accuracy: 0.8678 - val_loss: 0.3661 - val_accuracy: 0.8400\n",
      "Epoch 87/120\n",
      "313/313 [==============================] - 7s 24ms/step - loss: 0.3236 - accuracy: 0.8637 - val_loss: 0.3764 - val_accuracy: 0.8280\n",
      "Epoch 88/120\n",
      "313/313 [==============================] - 8s 25ms/step - loss: 0.3235 - accuracy: 0.8634 - val_loss: 0.3482 - val_accuracy: 0.8400\n",
      "Epoch 89/120\n",
      "313/313 [==============================] - 7s 24ms/step - loss: 0.3245 - accuracy: 0.8639 - val_loss: 0.3490 - val_accuracy: 0.8430\n",
      "Epoch 90/120\n",
      "313/313 [==============================] - 7s 24ms/step - loss: 0.3164 - accuracy: 0.8661 - val_loss: 0.3636 - val_accuracy: 0.8350\n",
      "Epoch 91/120\n",
      "313/313 [==============================] - 7s 24ms/step - loss: 0.3150 - accuracy: 0.8635 - val_loss: 0.3570 - val_accuracy: 0.8380\n",
      "Epoch 92/120\n",
      "313/313 [==============================] - 7s 24ms/step - loss: 0.3238 - accuracy: 0.8617 - val_loss: 0.3634 - val_accuracy: 0.8350\n",
      "Epoch 93/120\n",
      "313/313 [==============================] - 7s 24ms/step - loss: 0.3158 - accuracy: 0.8655 - val_loss: 0.3627 - val_accuracy: 0.8400\n",
      "Epoch 94/120\n",
      "313/313 [==============================] - 7s 24ms/step - loss: 0.3152 - accuracy: 0.8669 - val_loss: 0.3461 - val_accuracy: 0.8410\n",
      "Epoch 95/120\n",
      "313/313 [==============================] - 8s 25ms/step - loss: 0.3134 - accuracy: 0.8651 - val_loss: 0.3597 - val_accuracy: 0.8360\n",
      "Epoch 96/120\n",
      "313/313 [==============================] - 7s 24ms/step - loss: 0.3162 - accuracy: 0.8630 - val_loss: 0.3513 - val_accuracy: 0.8290\n",
      "Epoch 97/120\n",
      "313/313 [==============================] - 8s 25ms/step - loss: 0.3166 - accuracy: 0.8645 - val_loss: 0.3605 - val_accuracy: 0.8400\n",
      "Epoch 98/120\n",
      "313/313 [==============================] - 7s 24ms/step - loss: 0.3153 - accuracy: 0.8653 - val_loss: 0.3613 - val_accuracy: 0.8290\n",
      "Epoch 99/120\n",
      "313/313 [==============================] - 8s 25ms/step - loss: 0.3189 - accuracy: 0.8612 - val_loss: 0.3656 - val_accuracy: 0.8370\n",
      "Epoch 100/120\n",
      "313/313 [==============================] - 8s 25ms/step - loss: 0.3137 - accuracy: 0.8640 - val_loss: 0.3635 - val_accuracy: 0.8350\n",
      "Epoch 101/120\n",
      "313/313 [==============================] - 7s 24ms/step - loss: 0.3103 - accuracy: 0.8630 - val_loss: 0.3563 - val_accuracy: 0.8340\n",
      "Epoch 102/120\n",
      "313/313 [==============================] - 7s 24ms/step - loss: 0.3111 - accuracy: 0.8697 - val_loss: 0.3751 - val_accuracy: 0.8210\n",
      "Epoch 103/120\n",
      "313/313 [==============================] - 7s 24ms/step - loss: 0.3127 - accuracy: 0.8645 - val_loss: 0.3594 - val_accuracy: 0.8340\n",
      "Epoch 104/120\n",
      "313/313 [==============================] - 7s 24ms/step - loss: 0.3081 - accuracy: 0.8694 - val_loss: 0.3795 - val_accuracy: 0.8270\n",
      "Epoch 105/120\n",
      "313/313 [==============================] - 7s 24ms/step - loss: 0.3113 - accuracy: 0.8655 - val_loss: 0.3514 - val_accuracy: 0.8330\n",
      "Epoch 106/120\n",
      "313/313 [==============================] - 7s 24ms/step - loss: 0.3075 - accuracy: 0.8717 - val_loss: 0.3829 - val_accuracy: 0.8310\n",
      "Epoch 107/120\n",
      "313/313 [==============================] - 7s 24ms/step - loss: 0.3152 - accuracy: 0.8658 - val_loss: 0.3674 - val_accuracy: 0.8320\n",
      "Epoch 108/120\n",
      "313/313 [==============================] - 7s 24ms/step - loss: 0.3118 - accuracy: 0.8679 - val_loss: 0.3534 - val_accuracy: 0.8340\n",
      "Epoch 109/120\n",
      "313/313 [==============================] - 7s 24ms/step - loss: 0.3094 - accuracy: 0.8680 - val_loss: 0.3642 - val_accuracy: 0.8290\n",
      "Epoch 110/120\n",
      "313/313 [==============================] - 7s 24ms/step - loss: 0.3125 - accuracy: 0.8670 - val_loss: 0.3604 - val_accuracy: 0.8380\n",
      "Epoch 111/120\n",
      "313/313 [==============================] - 8s 24ms/step - loss: 0.3011 - accuracy: 0.8718 - val_loss: 0.3651 - val_accuracy: 0.8350\n",
      "Epoch 112/120\n",
      "313/313 [==============================] - 7s 24ms/step - loss: 0.3079 - accuracy: 0.8675 - val_loss: 0.3750 - val_accuracy: 0.8260\n",
      "Epoch 113/120\n"
     ]
    },
    {
     "name": "stdout",
     "output_type": "stream",
     "text": [
      "313/313 [==============================] - 8s 25ms/step - loss: 0.3122 - accuracy: 0.8691 - val_loss: 0.3594 - val_accuracy: 0.8330\n",
      "Epoch 114/120\n",
      "313/313 [==============================] - 7s 24ms/step - loss: 0.3042 - accuracy: 0.8703 - val_loss: 0.3789 - val_accuracy: 0.8260\n",
      "Epoch 115/120\n",
      "313/313 [==============================] - 7s 24ms/step - loss: 0.3077 - accuracy: 0.8662 - val_loss: 0.3806 - val_accuracy: 0.8240\n",
      "Epoch 116/120\n",
      "313/313 [==============================] - 7s 24ms/step - loss: 0.3056 - accuracy: 0.8694 - val_loss: 0.3857 - val_accuracy: 0.8240\n",
      "Epoch 117/120\n",
      "313/313 [==============================] - 8s 24ms/step - loss: 0.3063 - accuracy: 0.8723 - val_loss: 0.3606 - val_accuracy: 0.8280\n",
      "Epoch 118/120\n",
      "313/313 [==============================] - 8s 25ms/step - loss: 0.3088 - accuracy: 0.8689 - val_loss: 0.3674 - val_accuracy: 0.8310\n",
      "Epoch 119/120\n",
      "313/313 [==============================] - 8s 25ms/step - loss: 0.3064 - accuracy: 0.8718 - val_loss: 0.3904 - val_accuracy: 0.8250\n",
      "Epoch 120/120\n",
      "313/313 [==============================] - 7s 24ms/step - loss: 0.3057 - accuracy: 0.8692 - val_loss: 0.3675 - val_accuracy: 0.8270\n"
     ]
    }
   ],
   "source": [
    "history = model.fit([inputs_train, queries_train], answers_train,batch_size=32,epochs=120,validation_data=([inputs_test, queries_test], answers_test))"
   ]
  },
  {
   "cell_type": "code",
   "execution_count": 150,
   "id": "aa8f9d10",
   "metadata": {},
   "outputs": [
    {
     "name": "stderr",
     "output_type": "stream",
     "text": [
      "c:\\python39\\lib\\site-packages\\keras\\engine\\functional.py:1410: CustomMaskWarning: Custom mask layers require a config and must override get_config. When loading, the custom mask layer must be passed to the custom_objects argument.\n",
      "  layer_config = serialize_layer_fn(layer)\n"
     ]
    }
   ],
   "source": [
    "filename = 'chatbot.h5'\n",
    "model.save(filename)"
   ]
  },
  {
   "cell_type": "code",
   "execution_count": 152,
   "id": "7cf3426a",
   "metadata": {},
   "outputs": [
    {
     "name": "stdout",
     "output_type": "stream",
     "text": [
      "dict_keys(['loss', 'accuracy', 'val_loss', 'val_accuracy'])\n"
     ]
    },
    {
     "data": {
      "image/png": "[encoded data removed]",
      "text/plain": [
       "<Figure size 432x288 with 1 Axes>"
      ]
     },
     "metadata": {
      "needs_background": "light"
     },
     "output_type": "display_data"
    }
   ],
   "source": [
    "import matplotlib.pyplot as plt\n",
    "%matplotlib inline\n",
    "print(history.history.keys())\n",
    "# summarize history for accuracy\n",
    "plt.plot(history.history['accuracy'])\n",
    "plt.plot(history.history['val_accuracy'])\n",
    "plt.title('model accuracy')\n",
    "plt.ylabel('accuracy')\n",
    "plt.xlabel('epoch')\n",
    "plt.legend(['train', 'test'], loc='upper left')\n",
    "plt.show()"
   ]
  },
  {
   "cell_type": "code",
   "execution_count": 157,
   "id": "e0ea462d",
   "metadata": {},
   "outputs": [],
   "source": [
    "pred_results = model.predict(([inputs_test,queries_test]))"
   ]
  },
  {
   "cell_type": "code",
   "execution_count": 158,
   "id": "a2f5243c",
   "metadata": {},
   "outputs": [
    {
     "data": {
      "text/plain": [
       "array([[3.7692987e-12, 3.5837613e-12, 3.5735774e-12, ..., 1.0642897e-04,\n",
       "        3.8488943e-12, 3.8339618e-12],\n",
       "       [8.0751796e-09, 7.6960784e-09, 7.6373086e-09, ..., 7.1829341e-02,\n",
       "        8.0005638e-09, 7.9982607e-09],\n",
       "       [3.7635478e-10, 3.5983125e-10, 3.5757280e-10, ..., 8.6076266e-01,\n",
       "        3.6799783e-10, 3.5825207e-10],\n",
       "       ...,\n",
       "       [3.2362419e-09, 3.0437071e-09, 3.0760747e-09, ..., 2.9869841e-02,\n",
       "        3.2461331e-09, 3.2262824e-09],\n",
       "       [5.5678957e-15, 5.1098169e-15, 5.2312323e-15, ..., 9.9667442e-01,\n",
       "        5.2362433e-15, 5.0851606e-15],\n",
       "       [1.4443546e-12, 1.3028216e-12, 1.3013786e-12, ..., 9.9894828e-01,\n",
       "        1.2617411e-12, 1.3096804e-12]], dtype=float32)"
      ]
     },
     "execution_count": 158,
     "metadata": {},
     "output_type": "execute_result"
    }
   ],
   "source": [
    "pred_results"
   ]
  },
  {
   "cell_type": "code",
   "execution_count": 160,
   "id": "16ab9647",
   "metadata": {},
   "outputs": [
    {
     "name": "stdout",
     "output_type": "stream",
     "text": [
      "Mary got the milk there . John moved to the bedroom .\n"
     ]
    }
   ],
   "source": [
    "story =' '.join(word for word in test[0][0])\n",
    "print(story)"
   ]
  },
  {
   "cell_type": "code",
   "execution_count": 162,
   "id": "0c0165f6",
   "metadata": {},
   "outputs": [
    {
     "data": {
      "text/plain": [
       "'Is John in the kitchen ?'"
      ]
     },
     "execution_count": 162,
     "metadata": {},
     "output_type": "execute_result"
    }
   ],
   "source": [
    "' '.join(word for word in test[0][1])"
   ]
  },
  {
   "cell_type": "code",
   "execution_count": 163,
   "id": "5ef38198",
   "metadata": {},
   "outputs": [
    {
     "data": {
      "text/plain": [
       "'no'"
      ]
     },
     "execution_count": 163,
     "metadata": {},
     "output_type": "execute_result"
    }
   ],
   "source": [
    "test[0][2]"
   ]
  },
  {
   "cell_type": "code",
   "execution_count": 164,
   "id": "79e933a1",
   "metadata": {},
   "outputs": [
    {
     "name": "stdout",
     "output_type": "stream",
     "text": [
      "Predicted answer is:  no\n",
      "Probability of certainty was:  0.99989355\n"
     ]
    }
   ],
   "source": [
    "val_max = np.argmax(pred_results[0])\n",
    "for key, val in tokenizer.word_index.items():\n",
    "    if val == val_max:\n",
    "        k = key\n",
    "\n",
    "print(\"Predicted answer is: \", k)\n",
    "print(\"Probability of certainty was: \", pred_results[0][val_max])"
   ]
  },
  {
   "cell_type": "code",
   "execution_count": null,
   "id": "554086ac",
   "metadata": {},
   "outputs": [],
   "source": []
  }
 ],
 "metadata": {
  "kernelspec": {
   "display_name": "Python 3 (ipykernel)",
   "language": "python",
   "name": "python3"
  },
  "language_info": {
   "codemirror_mode": {
    "name": "ipython",
    "version": 3
   },
   "file_extension": ".py",
   "mimetype": "text/x-python",
   "name": "python",
   "nbconvert_exporter": "python",
   "pygments_lexer": "ipython3",
   "version": "3.9.1"
  }
 },
 "nbformat": 4,
 "nbformat_minor": 5
}
